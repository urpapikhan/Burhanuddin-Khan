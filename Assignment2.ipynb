{
  "nbformat": 4,
  "nbformat_minor": 0,
  "metadata": {
    "colab": {
      "name": "Untitled0.ipynb",
      "provenance": [],
      "authorship_tag": "ABX9TyMdXTfHucCLX9Re5AQ3Lfzj",
      "include_colab_link": true
    },
    "kernelspec": {
      "name": "python3",
      "display_name": "Python 3"
    }
  },
  "cells": [
    {
      "cell_type": "markdown",
      "metadata": {
        "id": "view-in-github",
        "colab_type": "text"
      },
      "source": [
        "<a href=\"https://colab.research.google.com/github/urpapikhan/Burhanuddin-Khan/blob/master/Assignment2.ipynb\" target=\"_parent\"><img src=\"https://colab.research.google.com/assets/colab-badge.svg\" alt=\"Open In Colab\"/></a>"
      ]
    },
    {
      "cell_type": "code",
      "metadata": {
        "id": "Szw6TUoifEVe",
        "colab_type": "code",
        "colab": {}
      },
      "source": [
        ""
      ],
      "execution_count": null,
      "outputs": []
    },
    {
      "cell_type": "markdown",
      "metadata": {
        "id": "2bPCubmLgCBw",
        "colab_type": "text"
      },
      "source": [
        "#**About me**\n",
        "My name is **Burhanuddin Khan**, Something _interesting_ about me is that I love to work on cars and I am employed at a Auto Body Shop in Brooklyn. I _also_ like to travel and visit new places to eat."
      ]
    }
  ]
}