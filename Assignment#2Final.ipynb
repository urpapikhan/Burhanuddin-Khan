{
  "nbformat": 4,
  "nbformat_minor": 0,
  "metadata": {
    "colab": {
      "name": "Untitled0.ipynb",
      "provenance": [],
      "authorship_tag": "ABX9TyO9NID8UsyrTKQ3qhk+Z2EL",
      "include_colab_link": true
    },
    "kernelspec": {
      "name": "python3",
      "display_name": "Python 3"
    }
  },
  "cells": [
    {
      "cell_type": "markdown",
      "metadata": {
        "id": "view-in-github",
        "colab_type": "text"
      },
      "source": [
        "<a href=\"https://colab.research.google.com/github/urpapikhan/Burhanuddin-Khan/blob/master/Assignment%232Final.ipynb\" target=\"_parent\"><img src=\"https://colab.research.google.com/assets/colab-badge.svg\" alt=\"Open In Colab\"/></a>"
      ]
    },
    {
      "cell_type": "code",
      "metadata": {
        "id": "kPKhJTNmoQL-",
        "colab_type": "code",
        "colab": {}
      },
      "source": [
        "#to get future value\n",
        "\n",
        "r= float (input(\"What is the interest rate?\\n\"))\n",
        "p= float(input(\"What is the principal?\\n\"))\n",
        "t= float(input(\"What is the time on the investment?\\n\"))\n",
        "\n",
        "output=p*(1+r)**t\n",
        "print(\"The future value is  \",output)\n"
      ],
      "execution_count": null,
      "outputs": []
    },
    {
      "cell_type": "markdown",
      "metadata": {
        "id": "KXBl-09njb6q",
        "colab_type": "text"
      },
      "source": [
        "#Part 1\n",
        "Here you can put in the information given and figure out how much the future value is on the investment you make"
      ]
    },
    {
      "cell_type": "code",
      "metadata": {
        "id": "n8C42HHJiKfZ",
        "colab_type": "code",
        "colab": {}
      },
      "source": [
        "future_value+ float (input(\"Enter the desired future value:  \"))\n",
        "rate= float (input(\"Enter the annual interest rate:  \"))\n",
        "\n",
        "present_value=future_value /1.0+rate)**years\n",
        "\n",
        "print (\"You will need to deposit this amount: \", present_value)"
      ],
      "execution_count": null,
      "outputs": []
    },
    {
      "cell_type": "markdown",
      "metadata": {
        "id": "AEyivY-bjmAS",
        "colab_type": "text"
      },
      "source": [
        "#Part 2\n",
        "Here you can figure out how much is needed to get a specific amount back as an investment."
      ]
    }
  ]
}