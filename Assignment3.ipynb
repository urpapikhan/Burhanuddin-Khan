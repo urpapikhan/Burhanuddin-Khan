{
  "nbformat": 4,
  "nbformat_minor": 0,
  "metadata": {
    "colab": {
      "name": "Untitled0.ipynb",
      "provenance": [],
      "authorship_tag": "ABX9TyMdyYAhZT5bw/AHGNQ+MJT7",
      "include_colab_link": true
    },
    "kernelspec": {
      "name": "python3",
      "display_name": "Python 3"
    }
  },
  "cells": [
    {
      "cell_type": "markdown",
      "metadata": {
        "id": "view-in-github",
        "colab_type": "text"
      },
      "source": [
        "<a href=\"https://colab.research.google.com/github/urpapikhan/Burhanuddin-Khan/blob/master/Assignment3.ipynb\" target=\"_parent\"><img src=\"https://colab.research.google.com/assets/colab-badge.svg\" alt=\"Open In Colab\"/></a>"
      ]
    },
    {
      "cell_type": "code",
      "metadata": {
        "id": "kPKhJTNmoQL-",
        "colab_type": "code",
        "colab": {
          "base_uri": "https://localhost:8080/",
          "height": 133
        },
        "outputId": "28b5f5a5-4ab4-428a-9785-ac4f6e4a8b20"
      },
      "source": [
        "#to get future value\n",
        "\n",
        "r= float (input(\"What is the interest rate?\\n\"))\n",
        "p= float(input(\"What is the principal?\\n\"))\n",
        "t= float(input(\"What is the time on the investment?\\n\"))\n",
        "\n",
        "output=p*(1+r)**t\n",
        "print(\"The future value is  \",output)\n"
      ],
      "execution_count": 2,
      "outputs": [
        {
          "output_type": "stream",
          "text": [
            "What is the interest rate?\n",
            ".05\n",
            "What is the principal?\n",
            "))1000\n",
            "What is the time on the investment?\n",
            "30\n",
            "The future value is   4321.942375150667\n"
          ],
          "name": "stdout"
        }
      ]
    }
  ]
}