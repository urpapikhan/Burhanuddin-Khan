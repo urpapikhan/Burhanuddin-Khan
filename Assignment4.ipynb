{
  "nbformat": 4,
  "nbformat_minor": 0,
  "metadata": {
    "colab": {
      "name": "Assignment4.ipynb",
      "provenance": [],
      "collapsed_sections": [],
      "authorship_tag": "ABX9TyP95bPHdRYQiWTx70mNSz34",
      "include_colab_link": true
    },
    "kernelspec": {
      "name": "python3",
      "display_name": "Python 3"
    }
  },
  "cells": [
    {
      "cell_type": "markdown",
      "metadata": {
        "id": "view-in-github",
        "colab_type": "text"
      },
      "source": [
        "<a href=\"https://colab.research.google.com/github/urpapikhan/Burhanuddin-Khan/blob/master/Assignment4.ipynb\" target=\"_parent\"><img src=\"https://colab.research.google.com/assets/colab-badge.svg\" alt=\"Open In Colab\"/></a>"
      ]
    },
    {
      "cell_type": "code",
      "metadata": {
        "id": "1xBvgPKkM1wF",
        "colab_type": "code",
        "colab": {
          "base_uri": "https://localhost:8080/",
          "height": 52
        },
        "outputId": "d02baa2f-a53d-400e-cea0-da14a4080ef3"
      },
      "source": [
        "packages = int (input(\"Enter the number of packages purchased: \"))\n",
        "result = 0\n",
        "if packages >= 100:\n",
        "    result = packages - (40*packages/100)\n",
        "elif packages>=50:\n",
        "    result = packages - (30*packages / 100)\n",
        "elif packages>=20:\n",
        "    result = packages - (20*packages / 100)\n",
        "elif packages>=10:\n",
        "    result = packages - (10*packages / 100)\n",
        "result = result*99\n",
        "\n",
        "print(\"Total amount of the purchase after the discount:\",result)"
      ],
      "execution_count": 7,
      "outputs": [
        {
          "output_type": "stream",
          "text": [
            "Enter the number of packages purchased: 54\n",
            "Total amount of the purchase after the discount: 3742.2\n"
          ],
          "name": "stdout"
        }
      ]
    },
    {
      "cell_type": "code",
      "metadata": {
        "id": "n11gQfGvNOo5",
        "colab_type": "code",
        "colab": {
          "base_uri": "https://localhost:8080/",
          "height": 52
        },
        "outputId": "f764f572-82aa-4236-e049-8c5cacb2e720"
      },
      "source": [
        "weight = int(input(\"Enter weight of package: \"))\n",
        "ShippingCharge = 0\n",
        "if weight > 10:\n",
        "   ShippingCharges = weight*4.75\n",
        "elif weight > 6:\n",
        "   ShippingCharges = weight*4.00\n",
        "elif weight > 2:\n",
        "   ShippingCharges = weight*3.0\n",
        "elif weight > 0:\n",
        "   ShippingCharges = weight*1.5\n",
        "\n",
        "print (\"Shipping charges for \", weight, \" pound: \", ShippingCharges, \"$\")"
      ],
      "execution_count": 6,
      "outputs": [
        {
          "output_type": "stream",
          "text": [
            "Enter weight of package: 25\n",
            "Shipping charges for  25  pound:  118.75 $\n"
          ],
          "name": "stdout"
        }
      ]
    }
  ]
}