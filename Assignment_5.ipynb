{
  "nbformat": 4,
  "nbformat_minor": 0,
  "metadata": {
    "colab": {
      "name": "Assignment 5.ipynb",
      "provenance": [],
      "authorship_tag": "ABX9TyNOHphJO/X+UnFMLKt56tt0",
      "include_colab_link": true
    },
    "kernelspec": {
      "name": "python3",
      "display_name": "Python 3"
    }
  },
  "cells": [
    {
      "cell_type": "markdown",
      "metadata": {
        "id": "view-in-github",
        "colab_type": "text"
      },
      "source": [
        "<a href=\"https://colab.research.google.com/github/urpapikhan/Burhanuddin-Khan/blob/master/Assignment_5.ipynb\" target=\"_parent\"><img src=\"https://colab.research.google.com/assets/colab-badge.svg\" alt=\"Open In Colab\"/></a>"
      ]
    },
    {
      "cell_type": "code",
      "metadata": {
        "id": "hJQujnommamf",
        "outputId": "53531efa-5b8d-407b-8fb5-b07c9ac5ea94",
        "colab": {
          "base_uri": "https://localhost:8080/",
          "height": 50
        }
      },
      "source": [
        "guess=input (\"What is your name?\")\n",
        "counter=1\n",
        "\n",
        "while (guess.isnumeric()) :\n",
        "  counter+=1\n",
        "  if counter<=3:guess=input(\"what is your name?\") \n",
        "  else: \n",
        "    print(\"Unacceptable\")\n",
        "if (guess.isalpha()) : print(\"Acceptable\") \n",
        "\n",
        "\n",
        "\n",
        " \n",
        " \n"
      ],
      "execution_count": 145,
      "outputs": [
        {
          "output_type": "stream",
          "text": [
            "What is your name?khan\n",
            "Acceptable\n"
          ],
          "name": "stdout"
        }
      ]
    },
    {
      "cell_type": "code",
      "metadata": {
        "id": "eTzfZ6awlENo",
        "outputId": "a095b435-b049-4f69-d7fc-796a542fed2d",
        "colab": {
          "base_uri": "https://localhost:8080/",
          "height": 67
        }
      },
      "source": [
        "age=int(input(\"What is your age\"))\n",
        "counter=1\n",
        "while age<=0 or age>=100:\n",
        "  counter+=1\n",
        "  if counter<=3:age=int(input(\"What is your age\"))\n",
        "  else:  print(\"Unacceptable\")\n",
        "if age>=0 or age<=100 : print(\"Acceptable\") \n",
        "\n"
      ],
      "execution_count": 143,
      "outputs": [
        {
          "output_type": "stream",
          "text": [
            "What is your age666\n",
            "What is your age45\n",
            "Acceptable\n"
          ],
          "name": "stdout"
        }
      ]
    },
    {
      "cell_type": "code",
      "metadata": {
        "id": "uCWECn1QmZhK",
        "outputId": "73c140e8-7886-42a1-efed-a934376196a4",
        "colab": {
          "base_uri": "https://localhost:8080/",
          "height": 84
        }
      },
      "source": [
        "import re\n",
        "password=input(\"Put in a potential password\")\n",
        "\n",
        "upperCase=loweCase=hasNumber=False\n",
        "hasSpecial=False\n",
        "for letter in password:\n",
        "  if letter.isupper():\n",
        "    upperCase=True\n",
        "  if letter.islower():\n",
        "    lowercase=True\n",
        "  if letter.isnumeric():\n",
        "    hasnumber=True\n",
        "  if re.findall('[^A-Za-z0-9]',password):\n",
        "    hasSpecial=True\n",
        "if (upperCase is True) and (lowerCase is True) and (hasNumber is True) and (hasSpecial is True):\n",
        "  print(\"Good Password\")\n",
        "else: \n",
        "  print (\"Uppercase:\",letter.isupper(),\"\\nLower Case:\",letter.islower(), \"\\nSpecial:\",hasSpecial )"
      ],
      "execution_count": 165,
      "outputs": [
        {
          "output_type": "stream",
          "text": [
            "Put in a potential passwordkhan\n",
            "Uppercase: False \n",
            "Lower Case: True \n",
            "Special: False\n"
          ],
          "name": "stdout"
        }
      ]
    },
    {
      "cell_type": "code",
      "metadata": {
        "id": "UlkqoffyqnL4",
        "outputId": "b02c91e8-c28c-4a1a-8c57-9b519e77255d",
        "colab": {
          "base_uri": "https://localhost:8080/",
          "height": 54
        }
      },
      "source": [
        "for i in range(1,1000):\n",
        "  val=i\n",
        "  check=0\n",
        "  while val !=0:\n",
        "    check=val % 10\n",
        "    if (check ==3):\n",
        "      print(i, end='|')\n",
        "      break\n",
        "    val=val//10"
      ],
      "execution_count": 213,
      "outputs": [
        {
          "output_type": "stream",
          "text": [
            "3|13|23|30|31|32|33|34|35|36|37|38|39|43|53|63|73|83|93|103|113|123|130|131|132|133|134|135|136|137|138|139|143|153|163|173|183|193|203|213|223|230|231|232|233|234|235|236|237|238|239|243|253|263|273|283|293|300|301|302|303|304|305|306|307|308|309|310|311|312|313|314|315|316|317|318|319|320|321|322|323|324|325|326|327|328|329|330|331|332|333|334|335|336|337|338|339|340|341|342|343|344|345|346|347|348|349|350|351|352|353|354|355|356|357|358|359|360|361|362|363|364|365|366|367|368|369|370|371|372|373|374|375|376|377|378|379|380|381|382|383|384|385|386|387|388|389|390|391|392|393|394|395|396|397|398|399|403|413|423|430|431|432|433|434|435|436|437|438|439|443|453|463|473|483|493|503|513|523|530|531|532|533|534|535|536|537|538|539|543|553|563|573|583|593|603|613|623|630|631|632|633|634|635|636|637|638|639|643|653|663|673|683|693|703|713|723|730|731|732|733|734|735|736|737|738|739|743|753|763|773|783|793|803|813|823|830|831|832|833|834|835|836|837|838|839|843|853|863|873|883|893|903|913|923|930|931|932|933|934|935|936|937|938|939|943|953|963|973|983|993|"
          ],
          "name": "stdout"
        }
      ]
    },
    {
      "cell_type": "code",
      "metadata": {
        "id": "ldOgzTegrM2d",
        "outputId": "e576d776-8857-4169-b750-0936affe88fe",
        "colab": {
          "base_uri": "https://localhost:8080/",
          "height": 857
        }
      },
      "source": [
        "for i in range(100,0, -2): \n",
        "\tprint(i)"
      ],
      "execution_count": 212,
      "outputs": [
        {
          "output_type": "stream",
          "text": [
            "100\n",
            "98\n",
            "96\n",
            "94\n",
            "92\n",
            "90\n",
            "88\n",
            "86\n",
            "84\n",
            "82\n",
            "80\n",
            "78\n",
            "76\n",
            "74\n",
            "72\n",
            "70\n",
            "68\n",
            "66\n",
            "64\n",
            "62\n",
            "60\n",
            "58\n",
            "56\n",
            "54\n",
            "52\n",
            "50\n",
            "48\n",
            "46\n",
            "44\n",
            "42\n",
            "40\n",
            "38\n",
            "36\n",
            "34\n",
            "32\n",
            "30\n",
            "28\n",
            "26\n",
            "24\n",
            "22\n",
            "20\n",
            "18\n",
            "16\n",
            "14\n",
            "12\n",
            "10\n",
            "8\n",
            "6\n",
            "4\n",
            "2\n"
          ],
          "name": "stdout"
        }
      ]
    },
    {
      "cell_type": "code",
      "metadata": {
        "id": "hFlF_Iq3sOGy",
        "outputId": "88ef28f5-9ac6-4cb9-9f60-160ce88259a0",
        "colab": {
          "base_uri": "https://localhost:8080/",
          "height": 54
        }
      },
      "source": [
        "for num in range(100,1000):\n",
        "    if all(num%i!=0 for i in range(2,num)):\n",
        "       print(num, end='|')"
      ],
      "execution_count": 210,
      "outputs": [
        {
          "output_type": "stream",
          "text": [
            "101|103|107|109|113|127|131|137|139|149|151|157|163|167|173|179|181|191|193|197|199|211|223|227|229|233|239|241|251|257|263|269|271|277|281|283|293|307|311|313|317|331|337|347|349|353|359|367|373|379|383|389|397|401|409|419|421|431|433|439|443|449|457|461|463|467|479|487|491|499|503|509|521|523|541|547|557|563|569|571|577|587|593|599|601|607|613|617|619|631|641|643|647|653|659|661|673|677|683|691|701|709|719|727|733|739|743|751|757|761|769|773|787|797|809|811|821|823|827|829|839|853|857|859|863|877|881|883|887|907|911|919|929|937|941|947|953|967|971|977|983|991|997|"
          ],
          "name": "stdout"
        }
      ]
    }
  ]
}